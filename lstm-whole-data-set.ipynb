{
 "cells": [
  {
   "cell_type": "code",
   "execution_count": 1,
   "id": "b13b2612",
   "metadata": {
    "_cell_guid": "b1076dfc-b9ad-4769-8c92-a6c4dae69d19",
    "_uuid": "8f2839f25d086af736a60e9eeb907d3b93b6e0e5",
    "execution": {
     "iopub.execute_input": "2022-06-02T03:29:01.083160Z",
     "iopub.status.busy": "2022-06-02T03:29:01.082450Z",
     "iopub.status.idle": "2022-06-02T03:29:09.045212Z",
     "shell.execute_reply": "2022-06-02T03:29:09.044310Z"
    },
    "papermill": {
     "duration": 7.982139,
     "end_time": "2022-06-02T03:29:09.047730",
     "exception": false,
     "start_time": "2022-06-02T03:29:01.065591",
     "status": "completed"
    },
    "tags": []
   },
   "outputs": [],
   "source": [
    "import pandas as pd\n",
    "import numpy as np\n",
    "import seaborn as sns\n",
    "import matplotlib.pyplot as plt\n",
    "%matplotlib inline\n",
    "import warnings\n",
    "warnings.filterwarnings('ignore') \n",
    "from datetime import datetime\n",
    "# import libraries\n",
    "import os\n",
    "import numpy as np\n",
    "import pandas as pd\n",
    "from pandas.plotting import register_matplotlib_converters\n",
    "from sklearn.preprocessing import MinMaxScaler, StandardScaler\n",
    "import seaborn as sns\n",
    "sns.set(color_codes=True)\n",
    "import matplotlib.pyplot as plt\n",
    "import matplotlib.dates as md\n",
    "from matplotlib.dates import DateFormatter\n",
    "from matplotlib import rc\n",
    "%matplotlib inline\n",
    "\n",
    "from numpy.random import seed\n",
    "import tensorflow as tf\n",
    "from tensorflow.keras.layers import Input, Dropout, Dense, LSTM, TimeDistributed, RepeatVector\n",
    "from tensorflow.keras.models import Model\n",
    "from tensorflow.keras import regularizers\n",
    "\n",
    "\n",
    "from pandas.plotting import autocorrelation_plot as auto_corr\n",
    "\n",
    "# To plot\n",
    "import math\n",
    "from datetime import datetime\n",
    "import itertools\n",
    "import statsmodels.api as sm\n",
    "import statsmodels.tsa.api as smt\n",
    "import statsmodels.formula.api as smf\n",
    "from sklearn.model_selection import train_test_split\n",
    "from statsmodels.tsa.seasonal import seasonal_decompose as season\n",
    "from sklearn.metrics import mean_squared_error, mean_absolute_error\n",
    "from sklearn.metrics import accuracy_score, balanced_accuracy_score\n",
    "from sklearn.model_selection import cross_val_score\n",
    "from sklearn.pipeline import make_pipeline, Pipeline\n",
    "from sklearn.ensemble import RandomForestRegressor\n",
    "from sklearn import metrics\n",
    "from sklearn.linear_model import LinearRegression \n",
    "from sklearn import preprocessing\n",
    "\n",
    "import warnings\n",
    "warnings.filterwarnings(\"ignore\")"
   ]
  },
  {
   "cell_type": "code",
   "execution_count": 2,
   "id": "3d1c240f",
   "metadata": {
    "execution": {
     "iopub.execute_input": "2022-06-02T03:29:09.067247Z",
     "iopub.status.busy": "2022-06-02T03:29:09.066570Z",
     "iopub.status.idle": "2022-06-02T03:29:09.071405Z",
     "shell.execute_reply": "2022-06-02T03:29:09.070555Z"
    },
    "papermill": {
     "duration": 0.016157,
     "end_time": "2022-06-02T03:29:09.072890",
     "exception": false,
     "start_time": "2022-06-02T03:29:09.056733",
     "status": "completed"
    },
    "tags": []
   },
   "outputs": [],
   "source": [
    "# set random seed\n",
    "seed(10)\n",
    "tf.random.set_seed(10)\n",
    "\n",
    "# filter warnings\n",
    "import warnings\n",
    "warnings.filterwarnings(\"ignore\")"
   ]
  },
  {
   "cell_type": "code",
   "execution_count": 3,
   "id": "9711f235",
   "metadata": {
    "execution": {
     "iopub.execute_input": "2022-06-02T03:29:09.085495Z",
     "iopub.status.busy": "2022-06-02T03:29:09.085141Z",
     "iopub.status.idle": "2022-06-02T03:29:10.226611Z",
     "shell.execute_reply": "2022-06-02T03:29:10.225829Z"
    },
    "papermill": {
     "duration": 1.150697,
     "end_time": "2022-06-02T03:29:10.229178",
     "exception": false,
     "start_time": "2022-06-02T03:29:09.078481",
     "status": "completed"
    },
    "tags": []
   },
   "outputs": [
    {
     "data": {
      "text/html": [
       "<div>\n",
       "<style scoped>\n",
       "    .dataframe tbody tr th:only-of-type {\n",
       "        vertical-align: middle;\n",
       "    }\n",
       "\n",
       "    .dataframe tbody tr th {\n",
       "        vertical-align: top;\n",
       "    }\n",
       "\n",
       "    .dataframe thead th {\n",
       "        text-align: right;\n",
       "    }\n",
       "</style>\n",
       "<table border=\"1\" class=\"dataframe\">\n",
       "  <thead>\n",
       "    <tr style=\"text-align: right;\">\n",
       "      <th></th>\n",
       "      <th>Unnamed: 0</th>\n",
       "      <th>Store</th>\n",
       "      <th>Date</th>\n",
       "      <th>IsHoliday</th>\n",
       "      <th>Dept</th>\n",
       "      <th>Weekly_Sales</th>\n",
       "      <th>Temperature</th>\n",
       "      <th>Fuel_Price</th>\n",
       "      <th>MarkDown1</th>\n",
       "      <th>MarkDown2</th>\n",
       "      <th>MarkDown3</th>\n",
       "      <th>MarkDown4</th>\n",
       "      <th>MarkDown5</th>\n",
       "      <th>CPI</th>\n",
       "      <th>Unemployment</th>\n",
       "      <th>Type</th>\n",
       "      <th>Size</th>\n",
       "    </tr>\n",
       "  </thead>\n",
       "  <tbody>\n",
       "    <tr>\n",
       "      <th>0</th>\n",
       "      <td>0</td>\n",
       "      <td>1</td>\n",
       "      <td>2010-02-05</td>\n",
       "      <td>0</td>\n",
       "      <td>1.0</td>\n",
       "      <td>24924.50</td>\n",
       "      <td>42.31</td>\n",
       "      <td>2.572</td>\n",
       "      <td>0.0</td>\n",
       "      <td>0.0</td>\n",
       "      <td>0.0</td>\n",
       "      <td>0.0</td>\n",
       "      <td>0.0</td>\n",
       "      <td>211.096358</td>\n",
       "      <td>8.106</td>\n",
       "      <td>3</td>\n",
       "      <td>151315</td>\n",
       "    </tr>\n",
       "    <tr>\n",
       "      <th>1</th>\n",
       "      <td>1</td>\n",
       "      <td>1</td>\n",
       "      <td>2010-02-05</td>\n",
       "      <td>0</td>\n",
       "      <td>26.0</td>\n",
       "      <td>11737.12</td>\n",
       "      <td>42.31</td>\n",
       "      <td>2.572</td>\n",
       "      <td>0.0</td>\n",
       "      <td>0.0</td>\n",
       "      <td>0.0</td>\n",
       "      <td>0.0</td>\n",
       "      <td>0.0</td>\n",
       "      <td>211.096358</td>\n",
       "      <td>8.106</td>\n",
       "      <td>3</td>\n",
       "      <td>151315</td>\n",
       "    </tr>\n",
       "    <tr>\n",
       "      <th>2</th>\n",
       "      <td>2</td>\n",
       "      <td>1</td>\n",
       "      <td>2010-02-05</td>\n",
       "      <td>0</td>\n",
       "      <td>17.0</td>\n",
       "      <td>13223.76</td>\n",
       "      <td>42.31</td>\n",
       "      <td>2.572</td>\n",
       "      <td>0.0</td>\n",
       "      <td>0.0</td>\n",
       "      <td>0.0</td>\n",
       "      <td>0.0</td>\n",
       "      <td>0.0</td>\n",
       "      <td>211.096358</td>\n",
       "      <td>8.106</td>\n",
       "      <td>3</td>\n",
       "      <td>151315</td>\n",
       "    </tr>\n",
       "    <tr>\n",
       "      <th>3</th>\n",
       "      <td>3</td>\n",
       "      <td>1</td>\n",
       "      <td>2010-02-05</td>\n",
       "      <td>0</td>\n",
       "      <td>45.0</td>\n",
       "      <td>37.44</td>\n",
       "      <td>42.31</td>\n",
       "      <td>2.572</td>\n",
       "      <td>0.0</td>\n",
       "      <td>0.0</td>\n",
       "      <td>0.0</td>\n",
       "      <td>0.0</td>\n",
       "      <td>0.0</td>\n",
       "      <td>211.096358</td>\n",
       "      <td>8.106</td>\n",
       "      <td>3</td>\n",
       "      <td>151315</td>\n",
       "    </tr>\n",
       "    <tr>\n",
       "      <th>4</th>\n",
       "      <td>4</td>\n",
       "      <td>1</td>\n",
       "      <td>2010-02-05</td>\n",
       "      <td>0</td>\n",
       "      <td>28.0</td>\n",
       "      <td>1085.29</td>\n",
       "      <td>42.31</td>\n",
       "      <td>2.572</td>\n",
       "      <td>0.0</td>\n",
       "      <td>0.0</td>\n",
       "      <td>0.0</td>\n",
       "      <td>0.0</td>\n",
       "      <td>0.0</td>\n",
       "      <td>211.096358</td>\n",
       "      <td>8.106</td>\n",
       "      <td>3</td>\n",
       "      <td>151315</td>\n",
       "    </tr>\n",
       "  </tbody>\n",
       "</table>\n",
       "</div>"
      ],
      "text/plain": [
       "   Unnamed: 0  Store        Date  IsHoliday  Dept  Weekly_Sales  Temperature  \\\n",
       "0           0      1  2010-02-05          0   1.0      24924.50        42.31   \n",
       "1           1      1  2010-02-05          0  26.0      11737.12        42.31   \n",
       "2           2      1  2010-02-05          0  17.0      13223.76        42.31   \n",
       "3           3      1  2010-02-05          0  45.0         37.44        42.31   \n",
       "4           4      1  2010-02-05          0  28.0       1085.29        42.31   \n",
       "\n",
       "   Fuel_Price  MarkDown1  MarkDown2  MarkDown3  MarkDown4  MarkDown5  \\\n",
       "0       2.572        0.0        0.0        0.0        0.0        0.0   \n",
       "1       2.572        0.0        0.0        0.0        0.0        0.0   \n",
       "2       2.572        0.0        0.0        0.0        0.0        0.0   \n",
       "3       2.572        0.0        0.0        0.0        0.0        0.0   \n",
       "4       2.572        0.0        0.0        0.0        0.0        0.0   \n",
       "\n",
       "          CPI  Unemployment  Type    Size  \n",
       "0  211.096358         8.106     3  151315  \n",
       "1  211.096358         8.106     3  151315  \n",
       "2  211.096358         8.106     3  151315  \n",
       "3  211.096358         8.106     3  151315  \n",
       "4  211.096358         8.106     3  151315  "
      ]
     },
     "execution_count": 3,
     "metadata": {},
     "output_type": "execute_result"
    }
   ],
   "source": [
    "data = pd.read_csv('../input/walmartcleaned/walmart_cleaned.csv')\n",
    "data.head()"
   ]
  },
  {
   "cell_type": "code",
   "execution_count": 4,
   "id": "7d30aaab",
   "metadata": {
    "execution": {
     "iopub.execute_input": "2022-06-02T03:29:10.249730Z",
     "iopub.status.busy": "2022-06-02T03:29:10.248700Z",
     "iopub.status.idle": "2022-06-02T03:29:10.311990Z",
     "shell.execute_reply": "2022-06-02T03:29:10.311066Z"
    },
    "papermill": {
     "duration": 0.075816,
     "end_time": "2022-06-02T03:29:10.314319",
     "exception": false,
     "start_time": "2022-06-02T03:29:10.238503",
     "status": "completed"
    },
    "tags": []
   },
   "outputs": [],
   "source": [
    "data['Date'] = pd.to_datetime(data['Date'])"
   ]
  },
  {
   "cell_type": "code",
   "execution_count": 5,
   "id": "5849e73d",
   "metadata": {
    "execution": {
     "iopub.execute_input": "2022-06-02T03:29:10.333735Z",
     "iopub.status.busy": "2022-06-02T03:29:10.333438Z",
     "iopub.status.idle": "2022-06-02T03:29:10.371311Z",
     "shell.execute_reply": "2022-06-02T03:29:10.370623Z"
    },
    "papermill": {
     "duration": 0.049937,
     "end_time": "2022-06-02T03:29:10.373509",
     "exception": false,
     "start_time": "2022-06-02T03:29:10.323572",
     "status": "completed"
    },
    "tags": []
   },
   "outputs": [],
   "source": [
    "data2 = data.loc[data['Weekly_Sales'] > 0]"
   ]
  },
  {
   "cell_type": "code",
   "execution_count": 6,
   "id": "4b7bbab4",
   "metadata": {
    "execution": {
     "iopub.execute_input": "2022-06-02T03:29:10.393012Z",
     "iopub.status.busy": "2022-06-02T03:29:10.392712Z",
     "iopub.status.idle": "2022-06-02T03:29:10.398845Z",
     "shell.execute_reply": "2022-06-02T03:29:10.398122Z"
    },
    "papermill": {
     "duration": 0.017903,
     "end_time": "2022-06-02T03:29:10.400648",
     "exception": false,
     "start_time": "2022-06-02T03:29:10.382745",
     "status": "completed"
    },
    "tags": []
   },
   "outputs": [],
   "source": [
    "data2.set_index('Date', inplace=True)"
   ]
  },
  {
   "cell_type": "code",
   "execution_count": 7,
   "id": "9c1bdfd7",
   "metadata": {
    "execution": {
     "iopub.execute_input": "2022-06-02T03:29:10.420260Z",
     "iopub.status.busy": "2022-06-02T03:29:10.419888Z",
     "iopub.status.idle": "2022-06-02T03:29:10.425444Z",
     "shell.execute_reply": "2022-06-02T03:29:10.424651Z"
    },
    "papermill": {
     "duration": 0.016932,
     "end_time": "2022-06-02T03:29:10.426870",
     "exception": false,
     "start_time": "2022-06-02T03:29:10.409938",
     "status": "completed"
    },
    "tags": []
   },
   "outputs": [
    {
     "data": {
      "text/plain": [
       "Index(['Unnamed: 0', 'Store', 'IsHoliday', 'Dept', 'Weekly_Sales',\n",
       "       'Temperature', 'Fuel_Price', 'MarkDown1', 'MarkDown2', 'MarkDown3',\n",
       "       'MarkDown4', 'MarkDown5', 'CPI', 'Unemployment', 'Type', 'Size'],\n",
       "      dtype='object')"
      ]
     },
     "execution_count": 7,
     "metadata": {},
     "output_type": "execute_result"
    }
   ],
   "source": [
    "data2.columns"
   ]
  },
  {
   "cell_type": "code",
   "execution_count": null,
   "id": "18383df3",
   "metadata": {
    "papermill": {
     "duration": 0.005438,
     "end_time": "2022-06-02T03:29:10.438074",
     "exception": false,
     "start_time": "2022-06-02T03:29:10.432636",
     "status": "completed"
    },
    "tags": []
   },
   "outputs": [],
   "source": []
  },
  {
   "cell_type": "code",
   "execution_count": null,
   "id": "aea01e50",
   "metadata": {
    "papermill": {
     "duration": 0.005352,
     "end_time": "2022-06-02T03:29:10.448931",
     "exception": false,
     "start_time": "2022-06-02T03:29:10.443579",
     "status": "completed"
    },
    "tags": []
   },
   "outputs": [],
   "source": []
  },
  {
   "cell_type": "code",
   "execution_count": 8,
   "id": "f6550523",
   "metadata": {
    "execution": {
     "iopub.execute_input": "2022-06-02T03:29:10.461801Z",
     "iopub.status.busy": "2022-06-02T03:29:10.461453Z",
     "iopub.status.idle": "2022-06-02T03:29:10.484153Z",
     "shell.execute_reply": "2022-06-02T03:29:10.482946Z"
    },
    "papermill": {
     "duration": 0.032032,
     "end_time": "2022-06-02T03:29:10.486636",
     "exception": false,
     "start_time": "2022-06-02T03:29:10.454604",
     "status": "completed"
    },
    "tags": []
   },
   "outputs": [],
   "source": [
    "df = data2.drop(['Unnamed: 0','MarkDown1', 'MarkDown2', 'MarkDown3',\n",
    "       'MarkDown4', 'MarkDown5','Type'],axis=1)\n",
    "train = df[['Weekly_Sales', 'Temperature', 'Fuel_Price',  'CPI', 'Unemployment', 'Size']]"
   ]
  },
  {
   "cell_type": "code",
   "execution_count": 9,
   "id": "a1045cea",
   "metadata": {
    "execution": {
     "iopub.execute_input": "2022-06-02T03:29:10.506491Z",
     "iopub.status.busy": "2022-06-02T03:29:10.505952Z",
     "iopub.status.idle": "2022-06-02T03:29:10.528476Z",
     "shell.execute_reply": "2022-06-02T03:29:10.527731Z"
    },
    "papermill": {
     "duration": 0.035195,
     "end_time": "2022-06-02T03:29:10.531200",
     "exception": false,
     "start_time": "2022-06-02T03:29:10.496005",
     "status": "completed"
    },
    "tags": []
   },
   "outputs": [
    {
     "data": {
      "text/html": [
       "<div>\n",
       "<style scoped>\n",
       "    .dataframe tbody tr th:only-of-type {\n",
       "        vertical-align: middle;\n",
       "    }\n",
       "\n",
       "    .dataframe tbody tr th {\n",
       "        vertical-align: top;\n",
       "    }\n",
       "\n",
       "    .dataframe thead th {\n",
       "        text-align: right;\n",
       "    }\n",
       "</style>\n",
       "<table border=\"1\" class=\"dataframe\">\n",
       "  <thead>\n",
       "    <tr style=\"text-align: right;\">\n",
       "      <th></th>\n",
       "      <th>Store</th>\n",
       "      <th>IsHoliday</th>\n",
       "      <th>Dept</th>\n",
       "      <th>Weekly_Sales</th>\n",
       "      <th>Temperature</th>\n",
       "      <th>Fuel_Price</th>\n",
       "      <th>CPI</th>\n",
       "      <th>Unemployment</th>\n",
       "      <th>Size</th>\n",
       "    </tr>\n",
       "    <tr>\n",
       "      <th>Date</th>\n",
       "      <th></th>\n",
       "      <th></th>\n",
       "      <th></th>\n",
       "      <th></th>\n",
       "      <th></th>\n",
       "      <th></th>\n",
       "      <th></th>\n",
       "      <th></th>\n",
       "      <th></th>\n",
       "    </tr>\n",
       "  </thead>\n",
       "  <tbody>\n",
       "    <tr>\n",
       "      <th>2010-02-05</th>\n",
       "      <td>1</td>\n",
       "      <td>0</td>\n",
       "      <td>1.0</td>\n",
       "      <td>24924.50</td>\n",
       "      <td>42.31</td>\n",
       "      <td>2.572</td>\n",
       "      <td>211.096358</td>\n",
       "      <td>8.106</td>\n",
       "      <td>151315</td>\n",
       "    </tr>\n",
       "    <tr>\n",
       "      <th>2010-02-05</th>\n",
       "      <td>1</td>\n",
       "      <td>0</td>\n",
       "      <td>26.0</td>\n",
       "      <td>11737.12</td>\n",
       "      <td>42.31</td>\n",
       "      <td>2.572</td>\n",
       "      <td>211.096358</td>\n",
       "      <td>8.106</td>\n",
       "      <td>151315</td>\n",
       "    </tr>\n",
       "    <tr>\n",
       "      <th>2010-02-05</th>\n",
       "      <td>1</td>\n",
       "      <td>0</td>\n",
       "      <td>17.0</td>\n",
       "      <td>13223.76</td>\n",
       "      <td>42.31</td>\n",
       "      <td>2.572</td>\n",
       "      <td>211.096358</td>\n",
       "      <td>8.106</td>\n",
       "      <td>151315</td>\n",
       "    </tr>\n",
       "    <tr>\n",
       "      <th>2010-02-05</th>\n",
       "      <td>1</td>\n",
       "      <td>0</td>\n",
       "      <td>45.0</td>\n",
       "      <td>37.44</td>\n",
       "      <td>42.31</td>\n",
       "      <td>2.572</td>\n",
       "      <td>211.096358</td>\n",
       "      <td>8.106</td>\n",
       "      <td>151315</td>\n",
       "    </tr>\n",
       "    <tr>\n",
       "      <th>2010-02-05</th>\n",
       "      <td>1</td>\n",
       "      <td>0</td>\n",
       "      <td>28.0</td>\n",
       "      <td>1085.29</td>\n",
       "      <td>42.31</td>\n",
       "      <td>2.572</td>\n",
       "      <td>211.096358</td>\n",
       "      <td>8.106</td>\n",
       "      <td>151315</td>\n",
       "    </tr>\n",
       "    <tr>\n",
       "      <th>...</th>\n",
       "      <td>...</td>\n",
       "      <td>...</td>\n",
       "      <td>...</td>\n",
       "      <td>...</td>\n",
       "      <td>...</td>\n",
       "      <td>...</td>\n",
       "      <td>...</td>\n",
       "      <td>...</td>\n",
       "      <td>...</td>\n",
       "    </tr>\n",
       "    <tr>\n",
       "      <th>2012-10-26</th>\n",
       "      <td>45</td>\n",
       "      <td>0</td>\n",
       "      <td>13.0</td>\n",
       "      <td>26240.14</td>\n",
       "      <td>58.85</td>\n",
       "      <td>3.882</td>\n",
       "      <td>192.308899</td>\n",
       "      <td>8.667</td>\n",
       "      <td>118221</td>\n",
       "    </tr>\n",
       "    <tr>\n",
       "      <th>2012-10-26</th>\n",
       "      <td>45</td>\n",
       "      <td>0</td>\n",
       "      <td>16.0</td>\n",
       "      <td>2660.02</td>\n",
       "      <td>58.85</td>\n",
       "      <td>3.882</td>\n",
       "      <td>192.308899</td>\n",
       "      <td>8.667</td>\n",
       "      <td>118221</td>\n",
       "    </tr>\n",
       "    <tr>\n",
       "      <th>2012-10-26</th>\n",
       "      <td>45</td>\n",
       "      <td>0</td>\n",
       "      <td>32.0</td>\n",
       "      <td>4131.54</td>\n",
       "      <td>58.85</td>\n",
       "      <td>3.882</td>\n",
       "      <td>192.308899</td>\n",
       "      <td>8.667</td>\n",
       "      <td>118221</td>\n",
       "    </tr>\n",
       "    <tr>\n",
       "      <th>2012-10-26</th>\n",
       "      <td>45</td>\n",
       "      <td>0</td>\n",
       "      <td>83.0</td>\n",
       "      <td>717.82</td>\n",
       "      <td>58.85</td>\n",
       "      <td>3.882</td>\n",
       "      <td>192.308899</td>\n",
       "      <td>8.667</td>\n",
       "      <td>118221</td>\n",
       "    </tr>\n",
       "    <tr>\n",
       "      <th>2012-10-26</th>\n",
       "      <td>45</td>\n",
       "      <td>0</td>\n",
       "      <td>98.0</td>\n",
       "      <td>1076.80</td>\n",
       "      <td>58.85</td>\n",
       "      <td>3.882</td>\n",
       "      <td>192.308899</td>\n",
       "      <td>8.667</td>\n",
       "      <td>118221</td>\n",
       "    </tr>\n",
       "  </tbody>\n",
       "</table>\n",
       "<p>420212 rows × 9 columns</p>\n",
       "</div>"
      ],
      "text/plain": [
       "            Store  IsHoliday  Dept  Weekly_Sales  Temperature  Fuel_Price  \\\n",
       "Date                                                                        \n",
       "2010-02-05      1          0   1.0      24924.50        42.31       2.572   \n",
       "2010-02-05      1          0  26.0      11737.12        42.31       2.572   \n",
       "2010-02-05      1          0  17.0      13223.76        42.31       2.572   \n",
       "2010-02-05      1          0  45.0         37.44        42.31       2.572   \n",
       "2010-02-05      1          0  28.0       1085.29        42.31       2.572   \n",
       "...           ...        ...   ...           ...          ...         ...   \n",
       "2012-10-26     45          0  13.0      26240.14        58.85       3.882   \n",
       "2012-10-26     45          0  16.0       2660.02        58.85       3.882   \n",
       "2012-10-26     45          0  32.0       4131.54        58.85       3.882   \n",
       "2012-10-26     45          0  83.0        717.82        58.85       3.882   \n",
       "2012-10-26     45          0  98.0       1076.80        58.85       3.882   \n",
       "\n",
       "                   CPI  Unemployment    Size  \n",
       "Date                                          \n",
       "2010-02-05  211.096358         8.106  151315  \n",
       "2010-02-05  211.096358         8.106  151315  \n",
       "2010-02-05  211.096358         8.106  151315  \n",
       "2010-02-05  211.096358         8.106  151315  \n",
       "2010-02-05  211.096358         8.106  151315  \n",
       "...                ...           ...     ...  \n",
       "2012-10-26  192.308899         8.667  118221  \n",
       "2012-10-26  192.308899         8.667  118221  \n",
       "2012-10-26  192.308899         8.667  118221  \n",
       "2012-10-26  192.308899         8.667  118221  \n",
       "2012-10-26  192.308899         8.667  118221  \n",
       "\n",
       "[420212 rows x 9 columns]"
      ]
     },
     "execution_count": 9,
     "metadata": {},
     "output_type": "execute_result"
    }
   ],
   "source": [
    "df"
   ]
  },
  {
   "cell_type": "code",
   "execution_count": 10,
   "id": "80d4423d",
   "metadata": {
    "execution": {
     "iopub.execute_input": "2022-06-02T03:29:10.552630Z",
     "iopub.status.busy": "2022-06-02T03:29:10.552292Z",
     "iopub.status.idle": "2022-06-02T03:29:10.589615Z",
     "shell.execute_reply": "2022-06-02T03:29:10.588160Z"
    },
    "papermill": {
     "duration": 0.050922,
     "end_time": "2022-06-02T03:29:10.591919",
     "exception": false,
     "start_time": "2022-06-02T03:29:10.540997",
     "status": "completed"
    },
    "tags": []
   },
   "outputs": [],
   "source": [
    "# Standerized the data using Min Max Scaler\n",
    "scaler = MinMaxScaler()\n",
    "df = scaler.fit_transform(df[['Weekly_Sales', 'Temperature',\n",
    "       'Fuel_Price', 'CPI', 'Unemployment', 'Size']])"
   ]
  },
  {
   "cell_type": "code",
   "execution_count": 11,
   "id": "77fd8b07",
   "metadata": {
    "execution": {
     "iopub.execute_input": "2022-06-02T03:29:10.612519Z",
     "iopub.status.busy": "2022-06-02T03:29:10.612186Z",
     "iopub.status.idle": "2022-06-02T03:29:10.618428Z",
     "shell.execute_reply": "2022-06-02T03:29:10.617525Z"
    },
    "papermill": {
     "duration": 0.017527,
     "end_time": "2022-06-02T03:29:10.619969",
     "exception": false,
     "start_time": "2022-06-02T03:29:10.602442",
     "status": "completed"
    },
    "tags": []
   },
   "outputs": [
    {
     "data": {
      "text/plain": [
       "array([[0.03596092, 0.43414873, 0.0501002 , 0.84049976, 0.40511788,\n",
       "        0.63026734],\n",
       "       [0.01693424, 0.43414873, 0.0501002 , 0.84049976, 0.40511788,\n",
       "        0.63026734],\n",
       "       [0.01907916, 0.43414873, 0.0501002 , 0.84049976, 0.40511788,\n",
       "        0.63026734],\n",
       "       ...,\n",
       "       [0.00596095, 0.59598826, 0.70641283, 0.65479569, 0.45888442,\n",
       "        0.45113588],\n",
       "       [0.00103565, 0.59598826, 0.70641283, 0.65479569, 0.45888442,\n",
       "        0.45113588],\n",
       "       [0.00155359, 0.59598826, 0.70641283, 0.65479569, 0.45888442,\n",
       "        0.45113588]])"
      ]
     },
     "execution_count": 11,
     "metadata": {},
     "output_type": "execute_result"
    }
   ],
   "source": [
    "df\n"
   ]
  },
  {
   "cell_type": "code",
   "execution_count": 12,
   "id": "bd226325",
   "metadata": {
    "execution": {
     "iopub.execute_input": "2022-06-02T03:29:10.633509Z",
     "iopub.status.busy": "2022-06-02T03:29:10.633190Z",
     "iopub.status.idle": "2022-06-02T03:29:10.637929Z",
     "shell.execute_reply": "2022-06-02T03:29:10.637359Z"
    },
    "papermill": {
     "duration": 0.013138,
     "end_time": "2022-06-02T03:29:10.639352",
     "exception": false,
     "start_time": "2022-06-02T03:29:10.626214",
     "status": "completed"
    },
    "tags": []
   },
   "outputs": [
    {
     "data": {
      "text/plain": [
       "(420212, 6)"
      ]
     },
     "execution_count": 12,
     "metadata": {},
     "output_type": "execute_result"
    }
   ],
   "source": [
    "\n",
    "df.shape"
   ]
  },
  {
   "cell_type": "code",
   "execution_count": 13,
   "id": "0fb623f7",
   "metadata": {
    "execution": {
     "iopub.execute_input": "2022-06-02T03:29:10.652524Z",
     "iopub.status.busy": "2022-06-02T03:29:10.652245Z",
     "iopub.status.idle": "2022-06-02T03:29:10.656770Z",
     "shell.execute_reply": "2022-06-02T03:29:10.656314Z"
    },
    "papermill": {
     "duration": 0.013024,
     "end_time": "2022-06-02T03:29:10.658459",
     "exception": false,
     "start_time": "2022-06-02T03:29:10.645435",
     "status": "completed"
    },
    "tags": []
   },
   "outputs": [],
   "source": [
    "X=df"
   ]
  },
  {
   "cell_type": "code",
   "execution_count": 14,
   "id": "4afeea6f",
   "metadata": {
    "execution": {
     "iopub.execute_input": "2022-06-02T03:29:10.679470Z",
     "iopub.status.busy": "2022-06-02T03:29:10.679192Z",
     "iopub.status.idle": "2022-06-02T03:29:10.685498Z",
     "shell.execute_reply": "2022-06-02T03:29:10.684731Z"
    },
    "papermill": {
     "duration": 0.018859,
     "end_time": "2022-06-02T03:29:10.687396",
     "exception": false,
     "start_time": "2022-06-02T03:29:10.668537",
     "status": "completed"
    },
    "tags": []
   },
   "outputs": [
    {
     "data": {
      "text/plain": [
       "array([[0.03596092, 0.43414873, 0.0501002 , 0.84049976, 0.40511788,\n",
       "        0.63026734],\n",
       "       [0.01693424, 0.43414873, 0.0501002 , 0.84049976, 0.40511788,\n",
       "        0.63026734],\n",
       "       [0.01907916, 0.43414873, 0.0501002 , 0.84049976, 0.40511788,\n",
       "        0.63026734],\n",
       "       ...,\n",
       "       [0.00596095, 0.59598826, 0.70641283, 0.65479569, 0.45888442,\n",
       "        0.45113588],\n",
       "       [0.00103565, 0.59598826, 0.70641283, 0.65479569, 0.45888442,\n",
       "        0.45113588],\n",
       "       [0.00155359, 0.59598826, 0.70641283, 0.65479569, 0.45888442,\n",
       "        0.45113588]])"
      ]
     },
     "execution_count": 14,
     "metadata": {},
     "output_type": "execute_result"
    }
   ],
   "source": [
    "X"
   ]
  },
  {
   "cell_type": "code",
   "execution_count": 15,
   "id": "28f12e79",
   "metadata": {
    "execution": {
     "iopub.execute_input": "2022-06-02T03:29:10.708839Z",
     "iopub.status.busy": "2022-06-02T03:29:10.708542Z",
     "iopub.status.idle": "2022-06-02T03:29:10.714676Z",
     "shell.execute_reply": "2022-06-02T03:29:10.714041Z"
    },
    "papermill": {
     "duration": 0.018862,
     "end_time": "2022-06-02T03:29:10.716415",
     "exception": false,
     "start_time": "2022-06-02T03:29:10.697553",
     "status": "completed"
    },
    "tags": []
   },
   "outputs": [],
   "source": [
    "# define the autoencoder network model\n",
    "def autoencoder_model(X):\n",
    "    inputs = Input(shape=(X.shape[1], X.shape[2]))\n",
    "    L1 = LSTM(16, activation='relu', return_sequences=True, \n",
    "              kernel_regularizer=regularizers.l2(0.00))(inputs)\n",
    "    L2 = LSTM(4, activation='relu', return_sequences=False)(L1)\n",
    "    L3 = RepeatVector(X.shape[1])(L2)\n",
    "    L4 = LSTM(4, activation='relu', return_sequences=True)(L3)\n",
    "    L5 = LSTM(16, activation='relu', return_sequences=True)(L4)\n",
    "    output = TimeDistributed(Dense(X.shape[2]))(L5)    \n",
    "    model = Model(inputs=inputs, outputs=output)\n",
    "    return model"
   ]
  },
  {
   "cell_type": "code",
   "execution_count": 16,
   "id": "f2db430d",
   "metadata": {
    "execution": {
     "iopub.execute_input": "2022-06-02T03:29:10.737722Z",
     "iopub.status.busy": "2022-06-02T03:29:10.737444Z",
     "iopub.status.idle": "2022-06-02T03:29:10.742052Z",
     "shell.execute_reply": "2022-06-02T03:29:10.741226Z"
    },
    "papermill": {
     "duration": 0.016747,
     "end_time": "2022-06-02T03:29:10.743476",
     "exception": false,
     "start_time": "2022-06-02T03:29:10.726729",
     "status": "completed"
    },
    "tags": []
   },
   "outputs": [],
   "source": [
    "# reshape inputs for LSTM [samples, timesteps, features]\n",
    "X_train = X.reshape(X.shape[0], 1, X.shape[1])"
   ]
  },
  {
   "cell_type": "code",
   "execution_count": 17,
   "id": "9216dc12",
   "metadata": {
    "execution": {
     "iopub.execute_input": "2022-06-02T03:29:10.757225Z",
     "iopub.status.busy": "2022-06-02T03:29:10.756548Z",
     "iopub.status.idle": "2022-06-02T03:29:11.124350Z",
     "shell.execute_reply": "2022-06-02T03:29:11.122845Z"
    },
    "papermill": {
     "duration": 0.376199,
     "end_time": "2022-06-02T03:29:11.126040",
     "exception": false,
     "start_time": "2022-06-02T03:29:10.749841",
     "status": "completed"
    },
    "tags": []
   },
   "outputs": [
    {
     "name": "stderr",
     "output_type": "stream",
     "text": [
      "2022-06-02 03:29:10.796588: I tensorflow/core/common_runtime/process_util.cc:146] Creating new thread pool with default inter op setting: 2. Tune using inter_op_parallelism_threads for best performance.\n"
     ]
    },
    {
     "name": "stdout",
     "output_type": "stream",
     "text": [
      "Model: \"model\"\n",
      "_________________________________________________________________\n",
      "Layer (type)                 Output Shape              Param #   \n",
      "=================================================================\n",
      "input_1 (InputLayer)         [(None, 1, 6)]            0         \n",
      "_________________________________________________________________\n",
      "lstm (LSTM)                  (None, 1, 16)             1472      \n",
      "_________________________________________________________________\n",
      "lstm_1 (LSTM)                (None, 4)                 336       \n",
      "_________________________________________________________________\n",
      "repeat_vector (RepeatVector) (None, 1, 4)              0         \n",
      "_________________________________________________________________\n",
      "lstm_2 (LSTM)                (None, 1, 4)              144       \n",
      "_________________________________________________________________\n",
      "lstm_3 (LSTM)                (None, 1, 16)             1344      \n",
      "_________________________________________________________________\n",
      "time_distributed (TimeDistri (None, 1, 6)              102       \n",
      "=================================================================\n",
      "Total params: 3,398\n",
      "Trainable params: 3,398\n",
      "Non-trainable params: 0\n",
      "_________________________________________________________________\n"
     ]
    }
   ],
   "source": [
    "# create the autoencoder model\n",
    "model = autoencoder_model(X_train)\n",
    "model.compile(optimizer='adam', loss='mae')\n",
    "model.summary()"
   ]
  },
  {
   "cell_type": "code",
   "execution_count": 18,
   "id": "e38bd800",
   "metadata": {
    "execution": {
     "iopub.execute_input": "2022-06-02T03:29:11.141854Z",
     "iopub.status.busy": "2022-06-02T03:29:11.141026Z",
     "iopub.status.idle": "2022-06-02T08:01:53.464528Z",
     "shell.execute_reply": "2022-06-02T08:01:53.463195Z"
    },
    "papermill": {
     "duration": 16362.333866,
     "end_time": "2022-06-02T08:01:53.466785",
     "exception": false,
     "start_time": "2022-06-02T03:29:11.132919",
     "status": "completed"
    },
    "tags": []
   },
   "outputs": [
    {
     "name": "stdout",
     "output_type": "stream",
     "text": [
      "Epoch 1/100\n"
     ]
    },
    {
     "name": "stderr",
     "output_type": "stream",
     "text": [
      "2022-06-02 03:29:11.202322: I tensorflow/compiler/mlir/mlir_graph_optimization_pass.cc:185] None of the MLIR Optimization Passes are enabled (registered 2)\n"
     ]
    },
    {
     "name": "stdout",
     "output_type": "stream",
     "text": [
      "39921/39921 [==============================] - 159s 4ms/step - loss: 0.1194 - val_loss: 0.1164\n",
      "Epoch 2/100\n",
      "39921/39921 [==============================] - 155s 4ms/step - loss: 0.0883 - val_loss: 0.1445\n",
      "Epoch 3/100\n",
      "39921/39921 [==============================] - 154s 4ms/step - loss: 0.0554 - val_loss: 0.1171\n",
      "Epoch 4/100\n",
      "39921/39921 [==============================] - 154s 4ms/step - loss: 0.0495 - val_loss: 0.1062\n",
      "Epoch 5/100\n",
      "39921/39921 [==============================] - 156s 4ms/step - loss: 0.0427 - val_loss: 0.1017\n",
      "Epoch 6/100\n",
      "39921/39921 [==============================] - 155s 4ms/step - loss: 0.0380 - val_loss: 0.1030\n",
      "Epoch 7/100\n",
      "39921/39921 [==============================] - 154s 4ms/step - loss: 0.0371 - val_loss: 0.0914\n",
      "Epoch 8/100\n",
      "39921/39921 [==============================] - 156s 4ms/step - loss: 0.0364 - val_loss: 0.0914\n",
      "Epoch 9/100\n",
      "39921/39921 [==============================] - 152s 4ms/step - loss: 0.0359 - val_loss: 0.0941\n",
      "Epoch 10/100\n",
      "39921/39921 [==============================] - 154s 4ms/step - loss: 0.0354 - val_loss: 0.0866\n",
      "Epoch 11/100\n",
      "39921/39921 [==============================] - 154s 4ms/step - loss: 0.0348 - val_loss: 0.0943\n",
      "Epoch 12/100\n",
      "39921/39921 [==============================] - 157s 4ms/step - loss: 0.0341 - val_loss: 0.0863\n",
      "Epoch 13/100\n",
      "39921/39921 [==============================] - 159s 4ms/step - loss: 0.0337 - val_loss: 0.0898\n",
      "Epoch 14/100\n",
      "39921/39921 [==============================] - 155s 4ms/step - loss: 0.0334 - val_loss: 0.0862\n",
      "Epoch 15/100\n",
      "39921/39921 [==============================] - 157s 4ms/step - loss: 0.0333 - val_loss: 0.0932\n",
      "Epoch 16/100\n",
      "39921/39921 [==============================] - 157s 4ms/step - loss: 0.0331 - val_loss: 0.0882\n",
      "Epoch 17/100\n",
      "39921/39921 [==============================] - 161s 4ms/step - loss: 0.0330 - val_loss: 0.0910\n",
      "Epoch 18/100\n",
      "39921/39921 [==============================] - 163s 4ms/step - loss: 0.0328 - val_loss: 0.0902\n",
      "Epoch 19/100\n",
      "39921/39921 [==============================] - 160s 4ms/step - loss: 0.0327 - val_loss: 0.0951\n",
      "Epoch 20/100\n",
      "39921/39921 [==============================] - 159s 4ms/step - loss: 0.0326 - val_loss: 0.0900\n",
      "Epoch 21/100\n",
      "39921/39921 [==============================] - 161s 4ms/step - loss: 0.0324 - val_loss: 0.0949\n",
      "Epoch 22/100\n",
      "39921/39921 [==============================] - 157s 4ms/step - loss: 0.0323 - val_loss: 0.0938\n",
      "Epoch 23/100\n",
      "39921/39921 [==============================] - 157s 4ms/step - loss: 0.0321 - val_loss: 0.0977\n",
      "Epoch 24/100\n",
      "39921/39921 [==============================] - 158s 4ms/step - loss: 0.0320 - val_loss: 0.0939\n",
      "Epoch 25/100\n",
      "39921/39921 [==============================] - 158s 4ms/step - loss: 0.0319 - val_loss: 0.0985\n",
      "Epoch 26/100\n",
      "39921/39921 [==============================] - 157s 4ms/step - loss: 0.0317 - val_loss: 0.0975\n",
      "Epoch 27/100\n",
      "39921/39921 [==============================] - 160s 4ms/step - loss: 0.0316 - val_loss: 0.1001\n",
      "Epoch 28/100\n",
      "39921/39921 [==============================] - 158s 4ms/step - loss: 0.0314 - val_loss: 0.1017\n",
      "Epoch 29/100\n",
      "39921/39921 [==============================] - 160s 4ms/step - loss: 0.0310 - val_loss: 0.1005\n",
      "Epoch 30/100\n",
      "39921/39921 [==============================] - 156s 4ms/step - loss: 0.0307 - val_loss: 0.1015\n",
      "Epoch 31/100\n",
      "39921/39921 [==============================] - 163s 4ms/step - loss: 0.0305 - val_loss: 0.1027\n",
      "Epoch 32/100\n",
      "39921/39921 [==============================] - 159s 4ms/step - loss: 0.0304 - val_loss: 0.1040\n",
      "Epoch 33/100\n",
      "39921/39921 [==============================] - 159s 4ms/step - loss: 0.0302 - val_loss: 0.1081\n",
      "Epoch 34/100\n",
      "39921/39921 [==============================] - 157s 4ms/step - loss: 0.0301 - val_loss: 0.1002\n",
      "Epoch 35/100\n",
      "39921/39921 [==============================] - 160s 4ms/step - loss: 0.0300 - val_loss: 0.0986\n",
      "Epoch 36/100\n",
      "39921/39921 [==============================] - 162s 4ms/step - loss: 0.0300 - val_loss: 0.1003\n",
      "Epoch 37/100\n",
      "39921/39921 [==============================] - 167s 4ms/step - loss: 0.0299 - val_loss: 0.0942\n",
      "Epoch 38/100\n",
      "39921/39921 [==============================] - 158s 4ms/step - loss: 0.0298 - val_loss: 0.1023\n",
      "Epoch 39/100\n",
      "39921/39921 [==============================] - 156s 4ms/step - loss: 0.0297 - val_loss: 0.0944\n",
      "Epoch 40/100\n",
      "39921/39921 [==============================] - 153s 4ms/step - loss: 0.0296 - val_loss: 0.1000\n",
      "Epoch 41/100\n",
      "39921/39921 [==============================] - 156s 4ms/step - loss: 0.0295 - val_loss: 0.0989\n",
      "Epoch 42/100\n",
      "39921/39921 [==============================] - 158s 4ms/step - loss: 0.0294 - val_loss: 0.0969\n",
      "Epoch 43/100\n",
      "39921/39921 [==============================] - 165s 4ms/step - loss: 0.0294 - val_loss: 0.0987\n",
      "Epoch 44/100\n",
      "39921/39921 [==============================] - 161s 4ms/step - loss: 0.0294 - val_loss: 0.0979\n",
      "Epoch 45/100\n",
      "39921/39921 [==============================] - 162s 4ms/step - loss: 0.0293 - val_loss: 0.1020\n",
      "Epoch 46/100\n",
      "39921/39921 [==============================] - 165s 4ms/step - loss: 0.0292 - val_loss: 0.0996\n",
      "Epoch 47/100\n",
      "39921/39921 [==============================] - 165s 4ms/step - loss: 0.0292 - val_loss: 0.0975\n",
      "Epoch 48/100\n",
      "39921/39921 [==============================] - 163s 4ms/step - loss: 0.0292 - val_loss: 0.1000\n",
      "Epoch 49/100\n",
      "39921/39921 [==============================] - 161s 4ms/step - loss: 0.0291 - val_loss: 0.0973\n",
      "Epoch 50/100\n",
      "39921/39921 [==============================] - 158s 4ms/step - loss: 0.0291 - val_loss: 0.0999\n",
      "Epoch 51/100\n",
      "39921/39921 [==============================] - 159s 4ms/step - loss: 0.0290 - val_loss: 0.0974\n",
      "Epoch 52/100\n",
      "39921/39921 [==============================] - 158s 4ms/step - loss: 0.0290 - val_loss: 0.1016\n",
      "Epoch 53/100\n",
      "39921/39921 [==============================] - 162s 4ms/step - loss: 0.0290 - val_loss: 0.1003\n",
      "Epoch 54/100\n",
      "39921/39921 [==============================] - 173s 4ms/step - loss: 0.0290 - val_loss: 0.0968\n",
      "Epoch 55/100\n",
      "39921/39921 [==============================] - 178s 4ms/step - loss: 0.0289 - val_loss: 0.0960\n",
      "Epoch 56/100\n",
      "39921/39921 [==============================] - 178s 4ms/step - loss: 0.0289 - val_loss: 0.0969\n",
      "Epoch 57/100\n",
      "39921/39921 [==============================] - 172s 4ms/step - loss: 0.0289 - val_loss: 0.0960\n",
      "Epoch 58/100\n",
      "39921/39921 [==============================] - 176s 4ms/step - loss: 0.0289 - val_loss: 0.0979\n",
      "Epoch 59/100\n",
      "39921/39921 [==============================] - 175s 4ms/step - loss: 0.0288 - val_loss: 0.1000\n",
      "Epoch 60/100\n",
      "39921/39921 [==============================] - 170s 4ms/step - loss: 0.0288 - val_loss: 0.0963\n",
      "Epoch 61/100\n",
      "39921/39921 [==============================] - 160s 4ms/step - loss: 0.0288 - val_loss: 0.0966\n",
      "Epoch 62/100\n",
      "39921/39921 [==============================] - 159s 4ms/step - loss: 0.0288 - val_loss: 0.1000\n",
      "Epoch 63/100\n",
      "39921/39921 [==============================] - 160s 4ms/step - loss: 0.0287 - val_loss: 0.0994\n",
      "Epoch 64/100\n",
      "39921/39921 [==============================] - 157s 4ms/step - loss: 0.0287 - val_loss: 0.0938\n",
      "Epoch 65/100\n",
      "39921/39921 [==============================] - 157s 4ms/step - loss: 0.0287 - val_loss: 0.0960\n",
      "Epoch 66/100\n",
      "39921/39921 [==============================] - 156s 4ms/step - loss: 0.0286 - val_loss: 0.0939\n",
      "Epoch 67/100\n",
      "39921/39921 [==============================] - 166s 4ms/step - loss: 0.0286 - val_loss: 0.0980\n",
      "Epoch 68/100\n",
      "39921/39921 [==============================] - 175s 4ms/step - loss: 0.0286 - val_loss: 0.0945\n",
      "Epoch 69/100\n",
      "39921/39921 [==============================] - 172s 4ms/step - loss: 0.0286 - val_loss: 0.0950\n",
      "Epoch 70/100\n",
      "39921/39921 [==============================] - 174s 4ms/step - loss: 0.0285 - val_loss: 0.0975\n",
      "Epoch 71/100\n",
      "39921/39921 [==============================] - 167s 4ms/step - loss: 0.0285 - val_loss: 0.0953\n",
      "Epoch 72/100\n",
      "39921/39921 [==============================] - 168s 4ms/step - loss: 0.0285 - val_loss: 0.0940\n",
      "Epoch 73/100\n",
      "39921/39921 [==============================] - 165s 4ms/step - loss: 0.0285 - val_loss: 0.0927\n",
      "Epoch 74/100\n",
      "39921/39921 [==============================] - 170s 4ms/step - loss: 0.0285 - val_loss: 0.0903\n",
      "Epoch 75/100\n",
      "39921/39921 [==============================] - 172s 4ms/step - loss: 0.0285 - val_loss: 0.0922\n",
      "Epoch 76/100\n",
      "39921/39921 [==============================] - 167s 4ms/step - loss: 0.0284 - val_loss: 0.0972\n",
      "Epoch 77/100\n",
      "39921/39921 [==============================] - 161s 4ms/step - loss: 0.0284 - val_loss: 0.0911\n",
      "Epoch 78/100\n",
      "39921/39921 [==============================] - 160s 4ms/step - loss: 0.0284 - val_loss: 0.0942\n",
      "Epoch 79/100\n",
      "39921/39921 [==============================] - 162s 4ms/step - loss: 0.0284 - val_loss: 0.0952\n",
      "Epoch 80/100\n",
      "39921/39921 [==============================] - 167s 4ms/step - loss: 0.0284 - val_loss: 0.0920\n",
      "Epoch 81/100\n",
      "39921/39921 [==============================] - 172s 4ms/step - loss: 0.0284 - val_loss: 0.0893\n",
      "Epoch 82/100\n",
      "39921/39921 [==============================] - 178s 4ms/step - loss: 0.0283 - val_loss: 0.0918\n",
      "Epoch 83/100\n",
      "39921/39921 [==============================] - 182s 5ms/step - loss: 0.0283 - val_loss: 0.0911\n",
      "Epoch 84/100\n",
      "39921/39921 [==============================] - 165s 4ms/step - loss: 0.0283 - val_loss: 0.0900\n",
      "Epoch 85/100\n",
      "39921/39921 [==============================] - 169s 4ms/step - loss: 0.0283 - val_loss: 0.0909\n",
      "Epoch 86/100\n",
      "39921/39921 [==============================] - 170s 4ms/step - loss: 0.0283 - val_loss: 0.0940\n",
      "Epoch 87/100\n",
      "39921/39921 [==============================] - 173s 4ms/step - loss: 0.0283 - val_loss: 0.0886\n",
      "Epoch 88/100\n",
      "39921/39921 [==============================] - 170s 4ms/step - loss: 0.0282 - val_loss: 0.0859\n",
      "Epoch 89/100\n",
      "39921/39921 [==============================] - 170s 4ms/step - loss: 0.0283 - val_loss: 0.0936\n",
      "Epoch 90/100\n",
      "39921/39921 [==============================] - 166s 4ms/step - loss: 0.0282 - val_loss: 0.0887\n",
      "Epoch 91/100\n",
      "39921/39921 [==============================] - 171s 4ms/step - loss: 0.0282 - val_loss: 0.0904\n",
      "Epoch 92/100\n",
      "39921/39921 [==============================] - 173s 4ms/step - loss: 0.0282 - val_loss: 0.0907\n",
      "Epoch 93/100\n",
      "39921/39921 [==============================] - 175s 4ms/step - loss: 0.0282 - val_loss: 0.0883\n",
      "Epoch 94/100\n",
      "39921/39921 [==============================] - 164s 4ms/step - loss: 0.0282 - val_loss: 0.0948\n",
      "Epoch 95/100\n",
      "39921/39921 [==============================] - 171s 4ms/step - loss: 0.0282 - val_loss: 0.0911\n",
      "Epoch 96/100\n",
      "39921/39921 [==============================] - 179s 4ms/step - loss: 0.0281 - val_loss: 0.0874\n",
      "Epoch 97/100\n",
      "39921/39921 [==============================] - 181s 5ms/step - loss: 0.0281 - val_loss: 0.0892\n",
      "Epoch 98/100\n",
      "39921/39921 [==============================] - 179s 4ms/step - loss: 0.0281 - val_loss: 0.0906\n",
      "Epoch 99/100\n",
      "39921/39921 [==============================] - 167s 4ms/step - loss: 0.0281 - val_loss: 0.0894\n",
      "Epoch 100/100\n",
      "39921/39921 [==============================] - 168s 4ms/step - loss: 0.0281 - val_loss: 0.0904\n"
     ]
    }
   ],
   "source": [
    "# fit the model to the data\n",
    "nb_epochs = 100\n",
    "batch_size = 10\n",
    "history = model.fit(X_train, X_train, epochs=nb_epochs, batch_size=batch_size, validation_split=0.05).history"
   ]
  },
  {
   "cell_type": "code",
   "execution_count": 19,
   "id": "515beaa3",
   "metadata": {
    "execution": {
     "iopub.execute_input": "2022-06-02T08:02:42.744490Z",
     "iopub.status.busy": "2022-06-02T08:02:42.744061Z",
     "iopub.status.idle": "2022-06-02T08:02:43.031610Z",
     "shell.execute_reply": "2022-06-02T08:02:43.030927Z"
    },
    "papermill": {
     "duration": 24.952107,
     "end_time": "2022-06-02T08:02:43.033607",
     "exception": false,
     "start_time": "2022-06-02T08:02:18.081500",
     "status": "completed"
    },
    "tags": []
   },
   "outputs": [
    {
     "data": {
      "image/png": "[encoded data removed]",
      "text/plain": [
       "<Figure size 1120x480 with 1 Axes>"
      ]
     },
     "metadata": {
      "needs_background": "light"
     },
     "output_type": "display_data"
    }
   ],
   "source": [
    "# plot the training losses\n",
    "fig, ax = plt.subplots(figsize=(14, 6), dpi=80)\n",
    "ax.plot(history['loss'], 'b', label='Train', linewidth=2)\n",
    "ax.plot(history['val_loss'], 'r', label='Validation', linewidth=2)\n",
    "ax.set_title('Model loss', fontsize=16)\n",
    "ax.set_ylabel('Loss (MAE)')\n",
    "ax.set_xlabel('Epoch')\n",
    "ax.legend(loc='upper right')\n",
    "plt.show()"
   ]
  },
  {
   "cell_type": "code",
   "execution_count": 20,
   "id": "21adfa92",
   "metadata": {
    "execution": {
     "iopub.execute_input": "2022-06-02T08:03:27.594563Z",
     "iopub.status.busy": "2022-06-02T08:03:27.594020Z",
     "iopub.status.idle": "2022-06-02T08:03:27.599639Z",
     "shell.execute_reply": "2022-06-02T08:03:27.599079Z"
    },
    "papermill": {
     "duration": 17.376288,
     "end_time": "2022-06-02T08:03:27.601634",
     "exception": false,
     "start_time": "2022-06-02T08:03:10.225346",
     "status": "completed"
    },
    "tags": []
   },
   "outputs": [
    {
     "data": {
      "text/plain": [
       "Index(['Weekly_Sales', 'Temperature', 'Fuel_Price', 'CPI', 'Unemployment',\n",
       "       'Size'],\n",
       "      dtype='object')"
      ]
     },
     "execution_count": 20,
     "metadata": {},
     "output_type": "execute_result"
    }
   ],
   "source": [
    "train.columns"
   ]
  },
  {
   "cell_type": "code",
   "execution_count": 21,
   "id": "c8eb8234",
   "metadata": {
    "execution": {
     "iopub.execute_input": "2022-06-02T08:04:10.076441Z",
     "iopub.status.busy": "2022-06-02T08:04:10.075959Z",
     "iopub.status.idle": "2022-06-02T08:04:33.982075Z",
     "shell.execute_reply": "2022-06-02T08:04:33.981512Z"
    },
    "papermill": {
     "duration": 48.178137,
     "end_time": "2022-06-02T08:04:33.983517",
     "exception": false,
     "start_time": "2022-06-02T08:03:45.805380",
     "status": "completed"
    },
    "tags": []
   },
   "outputs": [
    {
     "data": {
      "text/plain": [
       "(0.0, 0.13)"
      ]
     },
     "execution_count": 21,
     "metadata": {},
     "output_type": "execute_result"
    },
    {
     "data": {
      "image/png": "[encoded data removed]",
      "text/plain": [
       "<Figure size 1280x720 with 1 Axes>"
      ]
     },
     "metadata": {
      "needs_background": "light"
     },
     "output_type": "display_data"
    }
   ],
   "source": [
    "# plot the loss distribution of the training set\n",
    "X_pred = model.predict(X_train)\n",
    "X_pred = X_pred.reshape(X_pred.shape[0], X_pred.shape[2])\n",
    "X_pred = pd.DataFrame(X_pred, columns=train.columns)\n",
    "X_pred.index = train.index\n",
    "\n",
    "scored = pd.DataFrame(index=train.index)\n",
    "Xtrain = X_train.reshape(X_train.shape[0], X_train.shape[2])\n",
    "scored['Loss_mae'] = np.mean(np.abs(X_pred-Xtrain), axis = 1)\n",
    "plt.figure(figsize=(16,9), dpi=80)\n",
    "plt.title('Loss Distribution', fontsize=16)\n",
    "sns.distplot(scored['Loss_mae'], bins = 20, kde= True, color = 'blue');\n",
    "plt.xlim([0.0,.13])"
   ]
  },
  {
   "cell_type": "code",
   "execution_count": 22,
   "id": "84a90dd1",
   "metadata": {
    "execution": {
     "iopub.execute_input": "2022-06-02T08:05:15.172702Z",
     "iopub.status.busy": "2022-06-02T08:05:15.172287Z",
     "iopub.status.idle": "2022-06-02T08:05:33.671831Z",
     "shell.execute_reply": "2022-06-02T08:05:33.671145Z"
    },
    "papermill": {
     "duration": 39.296678,
     "end_time": "2022-06-02T08:05:33.673745",
     "exception": false,
     "start_time": "2022-06-02T08:04:54.377067",
     "status": "completed"
    },
    "tags": []
   },
   "outputs": [
    {
     "data": {
      "text/html": [
       "<div>\n",
       "<style scoped>\n",
       "    .dataframe tbody tr th:only-of-type {\n",
       "        vertical-align: middle;\n",
       "    }\n",
       "\n",
       "    .dataframe tbody tr th {\n",
       "        vertical-align: top;\n",
       "    }\n",
       "\n",
       "    .dataframe thead th {\n",
       "        text-align: right;\n",
       "    }\n",
       "</style>\n",
       "<table border=\"1\" class=\"dataframe\">\n",
       "  <thead>\n",
       "    <tr style=\"text-align: right;\">\n",
       "      <th></th>\n",
       "      <th>Loss_mae</th>\n",
       "      <th>Threshold</th>\n",
       "      <th>Anomaly</th>\n",
       "    </tr>\n",
       "    <tr>\n",
       "      <th>Date</th>\n",
       "      <th></th>\n",
       "      <th></th>\n",
       "      <th></th>\n",
       "    </tr>\n",
       "  </thead>\n",
       "  <tbody>\n",
       "    <tr>\n",
       "      <th>2010-11-26</th>\n",
       "      <td>0.219417</td>\n",
       "      <td>0.15</td>\n",
       "      <td>True</td>\n",
       "    </tr>\n",
       "    <tr>\n",
       "      <th>2010-12-24</th>\n",
       "      <td>0.159510</td>\n",
       "      <td>0.15</td>\n",
       "      <td>True</td>\n",
       "    </tr>\n",
       "    <tr>\n",
       "      <th>2010-12-24</th>\n",
       "      <td>0.160170</td>\n",
       "      <td>0.15</td>\n",
       "      <td>True</td>\n",
       "    </tr>\n",
       "    <tr>\n",
       "      <th>2011-11-25</th>\n",
       "      <td>0.173566</td>\n",
       "      <td>0.15</td>\n",
       "      <td>True</td>\n",
       "    </tr>\n",
       "    <tr>\n",
       "      <th>2010-11-26</th>\n",
       "      <td>0.175650</td>\n",
       "      <td>0.15</td>\n",
       "      <td>True</td>\n",
       "    </tr>\n",
       "  </tbody>\n",
       "</table>\n",
       "</div>"
      ],
      "text/plain": [
       "            Loss_mae  Threshold  Anomaly\n",
       "Date                                    \n",
       "2010-11-26  0.219417       0.15     True\n",
       "2010-12-24  0.159510       0.15     True\n",
       "2010-12-24  0.160170       0.15     True\n",
       "2011-11-25  0.173566       0.15     True\n",
       "2010-11-26  0.175650       0.15     True"
      ]
     },
     "execution_count": 22,
     "metadata": {},
     "output_type": "execute_result"
    }
   ],
   "source": [
    "X_pred = model.predict(X_train)\n",
    "X_pred = X_pred.reshape(X_pred.shape[0], X_pred.shape[2])\n",
    "X_pred = pd.DataFrame(X_pred, columns=train.columns)\n",
    "X_pred.index = train.index\n",
    "\n",
    "scored = pd.DataFrame(index=train.index)\n",
    "X_train1 = X_train.reshape(X_train.shape[0], X_train.shape[2])\n",
    "scored['Loss_mae'] = np.mean(np.abs(X_pred-X_train1), axis = 1)\n",
    "scored['Threshold'] = 0.15\n",
    "scored['Anomaly'] = scored['Loss_mae'] > scored['Threshold']\n",
    "\n",
    "anomalies = scored[scored.Anomaly == True]\n",
    "anomalies.head()"
   ]
  },
  {
   "cell_type": "code",
   "execution_count": 23,
   "id": "22d0f567",
   "metadata": {
    "execution": {
     "iopub.execute_input": "2022-06-02T08:06:12.374378Z",
     "iopub.status.busy": "2022-06-02T08:06:12.373959Z",
     "iopub.status.idle": "2022-06-02T08:06:12.380642Z",
     "shell.execute_reply": "2022-06-02T08:06:12.379452Z"
    },
    "papermill": {
     "duration": 19.138892,
     "end_time": "2022-06-02T08:06:12.382965",
     "exception": false,
     "start_time": "2022-06-02T08:05:53.244073",
     "status": "completed"
    },
    "tags": []
   },
   "outputs": [
    {
     "data": {
      "text/plain": [
       "(5648, 3)"
      ]
     },
     "execution_count": 23,
     "metadata": {},
     "output_type": "execute_result"
    }
   ],
   "source": [
    "anomalies.shape"
   ]
  },
  {
   "cell_type": "code",
   "execution_count": 24,
   "id": "9b23fbb1",
   "metadata": {
    "execution": {
     "iopub.execute_input": "2022-06-02T08:06:55.822971Z",
     "iopub.status.busy": "2022-06-02T08:06:55.822567Z",
     "iopub.status.idle": "2022-06-02T08:06:59.714574Z",
     "shell.execute_reply": "2022-06-02T08:06:59.713450Z"
    },
    "papermill": {
     "duration": 20.956513,
     "end_time": "2022-06-02T08:06:59.716397",
     "exception": false,
     "start_time": "2022-06-02T08:06:38.759884",
     "status": "completed"
    },
    "tags": []
   },
   "outputs": [
    {
     "data": {
      "text/plain": [
       "(array([14610., 14730., 14853., 14975., 15095., 15218., 15340., 15461.,\n",
       "        15584.]),\n",
       " [Text(0, 0, ''),\n",
       "  Text(0, 0, ''),\n",
       "  Text(0, 0, ''),\n",
       "  Text(0, 0, ''),\n",
       "  Text(0, 0, ''),\n",
       "  Text(0, 0, ''),\n",
       "  Text(0, 0, ''),\n",
       "  Text(0, 0, ''),\n",
       "  Text(0, 0, '')])"
      ]
     },
     "execution_count": 24,
     "metadata": {},
     "output_type": "execute_result"
    },
    {
     "data": {
      "image/png": "[encoded data removed]",
      "text/plain": [
       "<Figure size 1152x648 with 1 Axes>"
      ]
     },
     "metadata": {
      "needs_background": "light"
     },
     "output_type": "display_data"
    }
   ],
   "source": [
    "# plot bearing failure time plot\n",
    "scored.plot(logy=True,  figsize=(16,9), ylim=[1e-3,1e-0], color=['blue','red'])\n",
    "plt.xticks(rotation=90)"
   ]
  },
  {
   "cell_type": "code",
   "execution_count": 25,
   "id": "e3564b3f",
   "metadata": {
    "execution": {
     "iopub.execute_input": "2022-06-02T08:07:41.414419Z",
     "iopub.status.busy": "2022-06-02T08:07:41.414113Z",
     "iopub.status.idle": "2022-06-02T08:07:41.419703Z",
     "shell.execute_reply": "2022-06-02T08:07:41.419081Z"
    },
    "papermill": {
     "duration": 24.27307,
     "end_time": "2022-06-02T08:07:41.421560",
     "exception": false,
     "start_time": "2022-06-02T08:07:17.148490",
     "status": "completed"
    },
    "tags": []
   },
   "outputs": [
    {
     "data": {
      "text/plain": [
       "Index(['Weekly_Sales', 'Temperature', 'Fuel_Price', 'CPI', 'Unemployment',\n",
       "       'Size'],\n",
       "      dtype='object')"
      ]
     },
     "execution_count": 25,
     "metadata": {},
     "output_type": "execute_result"
    }
   ],
   "source": [
    "train.columns"
   ]
  }
 ],
 "metadata": {
  "kernelspec": {
   "display_name": "Python 3",
   "language": "python",
   "name": "python3"
  },
  "language_info": {
   "codemirror_mode": {
    "name": "ipython",
    "version": 3
   },
   "file_extension": ".py",
   "mimetype": "text/x-python",
   "name": "python",
   "nbconvert_exporter": "python",
   "pygments_lexer": "ipython3",
   "version": "3.7.12"
  },
  "papermill": {
   "default_parameters": {},
   "duration": 16758.396127,
   "end_time": "2022-06-02T08:08:11.608079",
   "environment_variables": {},
   "exception": null,
   "input_path": "__notebook__.ipynb",
   "output_path": "__notebook__.ipynb",
   "parameters": {},
   "start_time": "2022-06-02T03:28:53.211952",
   "version": "2.3.4"
  }
 },
 "nbformat": 4,
 "nbformat_minor": 5
}
